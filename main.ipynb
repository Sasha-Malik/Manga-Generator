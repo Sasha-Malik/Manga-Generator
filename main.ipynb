{
 "cells": [
  {
   "cell_type": "code",
   "execution_count": null,
   "metadata": {},
   "outputs": [],
   "source": [
    "!pip install tensorflow"
   ]
  },
  {
   "cell_type": "markdown",
   "metadata": {},
   "source": [
    "# Loading Dataset\n",
    "The dataset is from https://www.kaggle.com/datasets/sergeychernykh/manga-photo-60k?resource=download"
   ]
  },
  {
   "cell_type": "code",
   "execution_count": 5,
   "metadata": {},
   "outputs": [],
   "source": [
    "import tensorflow as tf\n",
    "import pandas as pd\n",
    "import numpy as np\n",
    "import matplotlib.pyplot as plt\n"
   ]
  },
  {
   "cell_type": "code",
   "execution_count": 13,
   "metadata": {},
   "outputs": [
    {
     "name": "stdout",
     "output_type": "stream",
     "text": [
      "Found 31771 files belonging to 1 classes.\n"
     ]
    }
   ],
   "source": [
    "folder_path = 'archive'\n",
    "\n",
    "# Configure the dataset loading parameters\n",
    "batch_size = 32\n",
    "image_size = (460, 660)  # Adjust the size according to your requirements\n",
    "\n",
    "# Load the images from the folder\n",
    "dataset_manga = tf.keras.preprocessing.image_dataset_from_directory(\n",
    "    folder_path,\n",
    "    image_size=image_size,\n",
    "    batch_size=batch_size,\n",
    "    shuffle=True,\n",
    "    seed=42,\n",
    "    validation_split=None\n",
    ")"
   ]
  },
  {
   "cell_type": "code",
   "execution_count": 49,
   "metadata": {},
   "outputs": [
    {
     "name": "stdout",
     "output_type": "stream",
     "text": [
      "Found 31783 files belonging to 1 classes.\n",
      "<_TakeDataset element_spec=(TensorSpec(shape=(None, 460, 660, 3), dtype=tf.float32, name=None), TensorSpec(shape=(None,), dtype=tf.int32, name=None))>\n"
     ]
    }
   ],
   "source": [
    "\n",
    "folder_path = 'archive2'\n",
    "\n",
    "# Configure the dataset loading parameters\n",
    "batch_size = 32\n",
    "image_size = (460,660)  # Adjust the size according to your requirements\n",
    "\n",
    "# Load the images from the folder\n",
    "dataset_photo = tf.keras.preprocessing.image_dataset_from_directory(\n",
    "    folder_path,\n",
    "    image_size=image_size,\n",
    "    batch_size=batch_size,\n",
    "    shuffle=True,\n",
    "    seed=42,\n",
    "    validation_split=None\n",
    ")\n"
   ]
  },
  {
   "cell_type": "code",
   "execution_count": 22,
   "metadata": {},
   "outputs": [
    {
     "name": "stdout",
     "output_type": "stream",
     "text": [
      "(32, 460, 660, 3)\n",
      "tf.Tensor([0 0 0 0 0 0 0 0 0 0 0 0 0 0 0 0 0 0 0 0 0 0 0 0 0 0 0 0 0 0 0 0], shape=(32,), dtype=int32)\n"
     ]
    }
   ],
   "source": [
    "#iterate over dataset1\n",
    "for image_batch, labels_batch in dataset_photo.take(1):\n",
    "    print(image_batch.shape)\n"
   ]
  },
  {
   "cell_type": "code",
   "execution_count": 23,
   "metadata": {},
   "outputs": [],
   "source": [
    "def make_discriminator():\n",
    "    model = tf.keras.Sequential()\n",
    "    model.add(tf.keras.layers.Conv2D(128, (3, 3), strides=(2, 2), padding='same', input_shape=[460, 660, 3]))\n",
    "    model.add(tf.keras.layers.LeakyReLU(alpha=0.2))\n",
    "    model.add(tf.keras.layers.Dropout(0.4))\n",
    "    model.add(tf.keras.layers.Conv2D(128, (3, 3), strides=(2, 2), padding='same'))\n",
    "    model.add(tf.keras.layers.LeakyReLU(alpha=0.2))\n",
    "    model.add(tf.keras.layers.Dropout(0.4))\n",
    "    model.add(tf.keras.layers.Flatten())\n",
    "    model.add(tf.keras.layers.Dense(1, activation='sigmoid'))\n",
    "    opt = tf.keras.optimizers.Adam(lr=0.0002, beta_1=0.5)\n",
    "    model.compile(loss='binary_crossentropy', optimizer=opt, metrics=['accuracy'])\n",
    "    return model"
   ]
  },
  {
   "cell_type": "code",
   "execution_count": 24,
   "metadata": {},
   "outputs": [
    {
     "name": "stderr",
     "output_type": "stream",
     "text": [
      "WARNING:absl:At this time, the v2.11+ optimizer `tf.keras.optimizers.Adam` runs slowly on M1/M2 Macs, please use the legacy Keras optimizer instead, located at `tf.keras.optimizers.legacy.Adam`.\n",
      "WARNING:absl:`lr` is deprecated in Keras optimizer, please use `learning_rate` or use the legacy optimizer, e.g.,tf.keras.optimizers.legacy.Adam.\n",
      "WARNING:absl:There is a known slowdown when using v2.11+ Keras optimizers on M1/M2 Macs. Falling back to the legacy Keras optimizer, i.e., `tf.keras.optimizers.legacy.Adam`.\n"
     ]
    },
    {
     "name": "stdout",
     "output_type": "stream",
     "text": [
      "Model: \"sequential\"\n",
      "_________________________________________________________________\n",
      " Layer (type)                Output Shape              Param #   \n",
      "=================================================================\n",
      " conv2d (Conv2D)             (None, 230, 330, 64)      1792      \n",
      "                                                                 \n",
      " leaky_re_lu (LeakyReLU)     (None, 230, 330, 64)      0         \n",
      "                                                                 \n",
      " dropout (Dropout)           (None, 230, 330, 64)      0         \n",
      "                                                                 \n",
      " conv2d_1 (Conv2D)           (None, 115, 165, 64)      36928     \n",
      "                                                                 \n",
      " leaky_re_lu_1 (LeakyReLU)   (None, 115, 165, 64)      0         \n",
      "                                                                 \n",
      " dropout_1 (Dropout)         (None, 115, 165, 64)      0         \n",
      "                                                                 \n",
      " flatten (Flatten)           (None, 1214400)           0         \n",
      "                                                                 \n",
      " dense (Dense)               (None, 1)                 1214401   \n",
      "                                                                 \n",
      "=================================================================\n",
      "Total params: 1253121 (4.78 MB)\n",
      "Trainable params: 1253121 (4.78 MB)\n",
      "Non-trainable params: 0 (0.00 Byte)\n",
      "_________________________________________________________________\n"
     ]
    }
   ],
   "source": [
    "D = make_discriminator()\n",
    "D.summary()"
   ]
  },
  {
   "cell_type": "code",
   "execution_count": 29,
   "metadata": {},
   "outputs": [],
   "source": [
    "#create generator with the output size as the input size of the discriminator\n",
    "def make_generator():\n",
    "    model = tf.keras.Sequential()\n",
    "    model.add(tf.keras.layers.Dense(128 * 115 * 165, input_dim=100))\n",
    "    model.add(tf.keras.layers.LeakyReLU(alpha=0.2))\n",
    "    model.add(tf.keras.layers.Reshape((115, 165, 128)))\n",
    "    model.add(tf.keras.layers.Conv2DTranspose(128, (4, 4), strides=(2, 2), padding='same'))\n",
    "    model.add(tf.keras.layers.LeakyReLU(alpha=0.2))\n",
    "    model.add(tf.keras.layers.Conv2DTranspose(128, (4, 4), strides=(2, 2), padding='same'))\n",
    "    model.add(tf.keras.layers.LeakyReLU(alpha=0.2))\n",
    "    model.add(tf.keras.layers.Conv2D(3, (7, 7), activation='sigmoid', padding='same'))\n",
    "    return model"
   ]
  },
  {
   "cell_type": "code",
   "execution_count": 31,
   "metadata": {},
   "outputs": [
    {
     "name": "stdout",
     "output_type": "stream",
     "text": [
      "Model: \"sequential_4\"\n",
      "_________________________________________________________________\n",
      " Layer (type)                Output Shape              Param #   \n",
      "=================================================================\n",
      " dense_4 (Dense)             (None, 2428800)           245308800 \n",
      "                                                                 \n",
      " leaky_re_lu_11 (LeakyReLU)  (None, 2428800)           0         \n",
      "                                                                 \n",
      " reshape_3 (Reshape)         (None, 115, 165, 128)     0         \n",
      "                                                                 \n",
      " conv2d_transpose_6 (Conv2D  (None, 230, 330, 128)     262272    \n",
      " Transpose)                                                      \n",
      "                                                                 \n",
      " leaky_re_lu_12 (LeakyReLU)  (None, 230, 330, 128)     0         \n",
      "                                                                 \n",
      " conv2d_transpose_7 (Conv2D  (None, 460, 660, 128)     262272    \n",
      " Transpose)                                                      \n",
      "                                                                 \n",
      " leaky_re_lu_13 (LeakyReLU)  (None, 460, 660, 128)     0         \n",
      "                                                                 \n",
      " conv2d_5 (Conv2D)           (None, 460, 660, 3)       18819     \n",
      "                                                                 \n",
      "=================================================================\n",
      "Total params: 245852163 (937.85 MB)\n",
      "Trainable params: 245852163 (937.85 MB)\n",
      "Non-trainable params: 0 (0.00 Byte)\n",
      "_________________________________________________________________\n"
     ]
    }
   ],
   "source": [
    "G = make_generator()\n",
    "G.summary()"
   ]
  },
  {
   "cell_type": "code",
   "execution_count": 37,
   "metadata": {},
   "outputs": [
    {
     "name": "stderr",
     "output_type": "stream",
     "text": [
      "WARNING:absl:At this time, the v2.11+ optimizer `tf.keras.optimizers.Adam` runs slowly on M1/M2 Macs, please use the legacy Keras optimizer instead, located at `tf.keras.optimizers.legacy.Adam`.\n",
      "WARNING:absl:`lr` is deprecated in Keras optimizer, please use `learning_rate` or use the legacy optimizer, e.g.,tf.keras.optimizers.legacy.Adam.\n",
      "WARNING:absl:There is a known slowdown when using v2.11+ Keras optimizers on M1/M2 Macs. Falling back to the legacy Keras optimizer, i.e., `tf.keras.optimizers.legacy.Adam`.\n"
     ]
    }
   ],
   "source": [
    "#create the gan model\n",
    "def make_gan(generator, discriminator):\n",
    "    discriminator.trainable = False\n",
    "    model = tf.keras.Sequential()\n",
    "    model.add(generator)\n",
    "    model.add(discriminator)\n",
    "    opt = tf.keras.optimizers.Adam(lr=0.0002, beta_1=0.5)\n",
    "    model.compile(loss='binary_crossentropy', optimizer=opt)\n",
    "    return model\n",
    "\n",
    "gan = make_gan(G, D)"
   ]
  },
  {
   "cell_type": "code",
   "execution_count": 102,
   "metadata": {},
   "outputs": [],
   "source": [
    "#create save_plot function to save the generated images\n",
    "def save_plot(examples, epoch, n=10):\n",
    "    for i in range(n * n):\n",
    "        plt.subplot(n, n, 1 + i)\n",
    "        plt.axis('off')\n",
    "        plt.imshow(examples[i, :, :])\n",
    "    filename = 'generated_plot_e%03d.png' % (epoch + 1)\n",
    "    plt.savefig(filename)\n",
    "    plt.close()\n",
    "\n",
    "#create generate_real_samples function to generate real images from a batchDataset\n",
    "def generate_real_samples(dataset, n_samples):\n",
    "    images = dataset.take(1)\n",
    "\n",
    "    y = np.ones((n_samples, 1))\n",
    "    return X, y\n",
    "\n",
    "\n",
    "#create generate_fake_samples function to generate fake images\n",
    "def generate_fake_samples(generator, latent_dim, n_samples):\n",
    "    x_input = np.random.randn(latent_dim * n_samples)\n",
    "    x_input = x_input.reshape(n_samples, latent_dim)\n",
    "    X = generator.predict(x_input)\n",
    "    y = np.zeros((n_samples, 1))\n",
    "    return X, y"
   ]
  },
  {
   "cell_type": "code",
   "execution_count": 103,
   "metadata": {},
   "outputs": [],
   "source": [
    "#create summarize_performance function\n",
    "def summarize_performance(epoch, generator, discriminator, dataset, latent_dim, n_samples=100):\n",
    "    X_real, y_real = generate_real_samples(dataset, n_samples)\n",
    "    _, acc_real = discriminator.evaluate(X_real, y_real, verbose=0)\n",
    "    x_fake, y_fake = generate_fake_samples(generator, latent_dim, n_samples)\n",
    "    _, acc_fake = discriminator.evaluate(x_fake, y_fake, verbose=0)\n",
    "    print(epoch, acc_real, acc_fake)\n",
    "    save_plot(x_fake, epoch)\n",
    "    filename = 'generator_model_%03d.h5' % (epoch + 1)\n",
    "    generator.save(filename)"
   ]
  },
  {
   "cell_type": "code",
   "execution_count": 104,
   "metadata": {},
   "outputs": [],
   "source": [
    "#train the model\n",
    "def train(G, D, gan, dataset_photo, dataset_manga, batch_size, n_epochs=100, n_eval=10):\n",
    "    half_batch = int(batch_size / 2)\n",
    "    for i in range(n_epochs):\n",
    "        for j in range(n_eval):\n",
    "  \n",
    "            X_real, y_real = generate_real_samples(dataset_manga, half_batch)\n",
    "            X_fake, y_fake = generate_fake_samples(G, 100, half_batch)\n",
    "\n",
    "            d_loss1, = D.train_on_batch(X_real, y_real) # update D weights on real images\n",
    "            \n",
    "            d_loss2, = D.train_on_batch(X_fake, y_fake) # update D weights on fake images\n",
    "\n",
    "\n",
    "            X_gan = np.random.randn(batch_size, 100)\n",
    "            y_gan = np.ones((batch_size, 1))\n",
    "            g_loss = gan.train_on_batch(X_gan, y_gan)\n",
    "            print('>%d, %d/%d, d1=%.3f, d2=%.3f, g=%.3f' % (i + 1, j + 1, n_eval, d_loss1, d_loss2, g_loss))\n",
    "\n",
    "\n",
    "        # if (i + 1) % 10 == 0:\n",
    "        #     summarize_performance(i, gan, dataset_photo, dataset_manga)"
   ]
  },
  {
   "cell_type": "code",
   "execution_count": 105,
   "metadata": {},
   "outputs": [
    {
     "ename": "TypeError",
     "evalue": "'_TakeDataset' object is not subscriptable",
     "output_type": "error",
     "traceback": [
      "\u001b[0;31m---------------------------------------------------------------------------\u001b[0m",
      "\u001b[0;31mTypeError\u001b[0m                                 Traceback (most recent call last)",
      "Cell \u001b[0;32mIn[105], line 3\u001b[0m\n\u001b[1;32m      1\u001b[0m \u001b[38;5;66;03m# generate_real_samples(, n_samples)\u001b[39;00m\n\u001b[0;32m----> 3\u001b[0m \u001b[43mtrain\u001b[49m\u001b[43m(\u001b[49m\u001b[43mG\u001b[49m\u001b[43m,\u001b[49m\u001b[43m \u001b[49m\u001b[43mD\u001b[49m\u001b[43m,\u001b[49m\u001b[43m \u001b[49m\u001b[43mgan\u001b[49m\u001b[43m,\u001b[49m\u001b[43m \u001b[49m\u001b[43mdataset_photo\u001b[49m\u001b[43m,\u001b[49m\u001b[43m \u001b[49m\u001b[43mdataset_manga\u001b[49m\u001b[43m,\u001b[49m\u001b[43m \u001b[49m\u001b[43mbatch_size\u001b[49m\u001b[43m,\u001b[49m\u001b[43m \u001b[49m\u001b[38;5;241;43m100\u001b[39;49m\u001b[43m,\u001b[49m\u001b[43m \u001b[49m\u001b[38;5;241;43m10\u001b[39;49m\u001b[43m)\u001b[49m\n",
      "Cell \u001b[0;32mIn[104], line 7\u001b[0m, in \u001b[0;36mtrain\u001b[0;34m(G, D, gan, dataset_photo, dataset_manga, batch_size, n_epochs, n_eval)\u001b[0m\n\u001b[1;32m      4\u001b[0m \u001b[38;5;28;01mfor\u001b[39;00m i \u001b[38;5;129;01min\u001b[39;00m \u001b[38;5;28mrange\u001b[39m(n_epochs):\n\u001b[1;32m      5\u001b[0m     \u001b[38;5;28;01mfor\u001b[39;00m j \u001b[38;5;129;01min\u001b[39;00m \u001b[38;5;28mrange\u001b[39m(n_eval):\n\u001b[0;32m----> 7\u001b[0m         X_real, y_real \u001b[38;5;241m=\u001b[39m \u001b[43mgenerate_real_samples\u001b[49m\u001b[43m(\u001b[49m\u001b[43mdataset_manga\u001b[49m\u001b[43m,\u001b[49m\u001b[43m \u001b[49m\u001b[43mhalf_batch\u001b[49m\u001b[43m)\u001b[49m\n\u001b[1;32m      8\u001b[0m         X_fake, y_fake \u001b[38;5;241m=\u001b[39m generate_fake_samples(G, \u001b[38;5;241m100\u001b[39m, half_batch)\n\u001b[1;32m     10\u001b[0m         d_loss1, \u001b[38;5;241m=\u001b[39m D\u001b[38;5;241m.\u001b[39mtrain_on_batch(X_real, y_real) \u001b[38;5;66;03m# update D weights on real images\u001b[39;00m\n",
      "Cell \u001b[0;32mIn[102], line 14\u001b[0m, in \u001b[0;36mgenerate_real_samples\u001b[0;34m(dataset, n_samples)\u001b[0m\n\u001b[1;32m     12\u001b[0m \u001b[38;5;28;01mdef\u001b[39;00m \u001b[38;5;21mgenerate_real_samples\u001b[39m(dataset, n_samples):\n\u001b[1;32m     13\u001b[0m     images \u001b[38;5;241m=\u001b[39m dataset\u001b[38;5;241m.\u001b[39mtake(\u001b[38;5;241m1\u001b[39m)\n\u001b[0;32m---> 14\u001b[0m     X \u001b[38;5;241m=\u001b[39m \u001b[43mimages\u001b[49m\u001b[38;5;241;43m.\u001b[39;49m\u001b[43mtake\u001b[49m\u001b[43m(\u001b[49m\u001b[38;5;241;43m1\u001b[39;49m\u001b[43m)\u001b[49m\u001b[43m[\u001b[49m\u001b[38;5;241;43m0\u001b[39;49m\u001b[43m]\u001b[49m\n\u001b[1;32m     15\u001b[0m     y \u001b[38;5;241m=\u001b[39m np\u001b[38;5;241m.\u001b[39mones((n_samples, \u001b[38;5;241m1\u001b[39m))\n\u001b[1;32m     16\u001b[0m     \u001b[38;5;28;01mreturn\u001b[39;00m X, y\n",
      "\u001b[0;31mTypeError\u001b[0m: '_TakeDataset' object is not subscriptable"
     ]
    }
   ],
   "source": [
    "\n",
    "\n",
    "# generate_real_samples(, n_samples)\n",
    "\n",
    "train(G, D, gan, dataset_photo, dataset_manga, batch_size, 100, 10)"
   ]
  },
  {
   "cell_type": "markdown",
   "metadata": {},
   "source": []
  }
 ],
 "metadata": {
  "kernelspec": {
   "display_name": "Python 3.10.1 64-bit",
   "language": "python",
   "name": "python3"
  },
  "language_info": {
   "codemirror_mode": {
    "name": "ipython",
    "version": 3
   },
   "file_extension": ".py",
   "mimetype": "text/x-python",
   "name": "python",
   "nbconvert_exporter": "python",
   "pygments_lexer": "ipython3",
   "version": "3.10.1"
  },
  "orig_nbformat": 4,
  "vscode": {
   "interpreter": {
    "hash": "aee8b7b246df8f9039afb4144a1f6fd8d2ca17a180786b69acc140d282b71a49"
   }
  }
 },
 "nbformat": 4,
 "nbformat_minor": 2
}
